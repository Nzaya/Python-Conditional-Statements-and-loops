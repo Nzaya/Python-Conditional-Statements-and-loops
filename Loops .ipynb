{
 "cells": [
  {
   "cell_type": "markdown",
   "metadata": {},
   "source": [
    "# Python conditional statements and loops"
   ]
  },
  {
   "cell_type": "code",
   "execution_count": 1,
   "metadata": {},
   "outputs": [
    {
     "name": "stdout",
     "output_type": "stream",
     "text": [
      "300543.4456537098\n",
      "25\n"
     ]
    }
   ],
   "source": [
    "bal= 100000\n",
    "z= 0.045\n",
    "years=0\n",
    "\n",
    "while (bal<300000):\n",
    "    bal+=(bal*z)\n",
    "    years=years+1\n",
    "print(bal)\n",
    "print(years)\n",
    "    "
   ]
  },
  {
   "cell_type": "code",
   "execution_count": 29,
   "metadata": {},
   "outputs": [],
   "source": [
    "mehdi= 1\n",
    "john= 100000\n",
    "mehd_int= 0.05\n",
    "john_int=0.035\n",
    "years=0"
   ]
  },
  {
   "cell_type": "code",
   "execution_count": 30,
   "metadata": {},
   "outputs": [
    {
     "name": "stdout",
     "output_type": "stream",
     "text": [
      "9.389199241706723e+16\n",
      "9.272998384927869e+16\n",
      "801\n"
     ]
    }
   ],
   "source": [
    "while (mehdi < john):\n",
    "    mehdi+=(mehdi*mehd_int)\n",
    "    john+=(john*john_int)\n",
    "    years= years + 1\n",
    "print(mehdi)\n",
    "print(john)\n",
    "print(years)"
   ]
  },
  {
   "cell_type": "code",
   "execution_count": null,
   "metadata": {},
   "outputs": [],
   "source": []
  },
  {
   "cell_type": "code",
   "execution_count": 4,
   "metadata": {},
   "outputs": [
    {
     "name": "stdout",
     "output_type": "stream",
     "text": [
      "Darius\n",
      "1\n",
      "Agnes\n",
      "2\n",
      "Sharon\n",
      "3\n",
      "Cecilia\n",
      "4\n"
     ]
    }
   ],
   "source": [
    "index= 0\n",
    "names=['Darius', 'Agnes', 'Sharon', 'Cecilia']\n",
    "while (index<=len(names)-1):\n",
    "    name= names[index]\n",
    "    index= index+ 1\n",
    "    print(name)\n",
    "    print(index)"
   ]
  },
  {
   "cell_type": "code",
   "execution_count": 14,
   "metadata": {},
   "outputs": [
    {
     "name": "stdout",
     "output_type": "stream",
     "text": [
      "-1\n",
      "Cecilia\n",
      "-2\n",
      "Sharon\n",
      "-3\n",
      "Agnes\n",
      "-4\n",
      "Daris\n"
     ]
    }
   ],
   "source": [
    "index= -1\n",
    "#x= 0\n",
    "names=['Daris','Agnes','Sharon','Cecilia']\n",
    "while (index >=-4):\n",
    "    name= names[index]\n",
    "    print(index)\n",
    "    index= index- 1\n",
    "    #x+= 1\n",
    "    \n",
    "    print(name)\n"
   ]
  },
  {
   "cell_type": "code",
   "execution_count": 57,
   "metadata": {},
   "outputs": [
    {
     "name": "stdout",
     "output_type": "stream",
     "text": [
      "i =  3 :  3  6  9 12 15 18 21 24 27 \n",
      "\n",
      "i =  7 :  7 14 21 28 35 42 49 56 63 \n",
      "\n",
      "i =  12 : 12 24 36 48 60 72 84 96 108 \n",
      "\n"
     ]
    }
   ],
   "source": [
    "numbers= [3,7,12]\n",
    " \n",
    "for i in numbers :\n",
    "    print( 'i = ', i , ':', end= \" \"),\n",
    "    for j in range(1, 10):\n",
    "        print ('{:2d}'.format(i*j), end= ' ')\n",
    "    print('\\n')"
   ]
  },
  {
   "cell_type": "code",
   "execution_count": 54,
   "metadata": {},
   "outputs": [
    {
     "name": "stdout",
     "output_type": "stream",
     "text": [
      "1 \n",
      "\n",
      "2 2 \n",
      "\n",
      "3 3 3 \n",
      "\n",
      "4 4 4 4 \n",
      "\n",
      "5 5 5 5 5 \n",
      "\n",
      "6 6 6 6 6 6 \n",
      "\n",
      "7 7 7 7 7 7 7 \n",
      "\n",
      "8 8 8 8 8 8 8 8 \n",
      "\n",
      "9 9 9 9 9 9 9 9 9 \n",
      "\n"
     ]
    }
   ],
   "source": [
    "#Increament\n",
    "\n",
    "for i in range(1,10):\n",
    "    for num in range(i):\n",
    "        print(i, end = ' ')\n",
    "    print('\\n')"
   ]
  },
  {
   "cell_type": "code",
   "execution_count": 56,
   "metadata": {},
   "outputs": [
    {
     "name": "stdout",
     "output_type": "stream",
     "text": [
      "1\n",
      "22\n",
      "333\n",
      "4444\n",
      "55555\n",
      "666666\n",
      "7777777\n",
      "88888888\n",
      "999999999\n"
     ]
    }
   ],
   "source": [
    "for i in range(1, 10):\n",
    "    print(str(i)*i)"
   ]
  },
  {
   "cell_type": "code",
   "execution_count": null,
   "metadata": {},
   "outputs": [],
   "source": []
  },
  {
   "cell_type": "code",
   "execution_count": 66,
   "metadata": {},
   "outputs": [
    {
     "name": "stdout",
     "output_type": "stream",
     "text": [
      "8\n"
     ]
    }
   ],
   "source": [
    "\n",
    "def power(x,y):\n",
    "    print(x**y)\n",
    "power(2,3)"
   ]
  },
  {
   "cell_type": "code",
   "execution_count": 67,
   "metadata": {},
   "outputs": [
    {
     "data": {
      "text/plain": [
       "16"
      ]
     },
     "execution_count": 67,
     "metadata": {},
     "output_type": "execute_result"
    }
   ],
   "source": [
    "def power(x,y):\n",
    "    return(x**y)\n",
    "power(2,4)"
   ]
  },
  {
   "cell_type": "markdown",
   "metadata": {},
   "source": [
    "## WHILE LOOPS"
   ]
  },
  {
   "cell_type": "code",
   "execution_count": 69,
   "metadata": {},
   "outputs": [
    {
     "name": "stdout",
     "output_type": "stream",
     "text": [
      "1\n",
      "2\n",
      "3\n",
      "4\n",
      "5\n",
      "6\n"
     ]
    }
   ],
   "source": [
    "#Print i as long as i is less than 6\n",
    "\n",
    "i= 0\n",
    "while i< 6:\n",
    "    i += 1\n",
    "    print(i)"
   ]
  },
  {
   "cell_type": "code",
   "execution_count": 1,
   "metadata": {},
   "outputs": [
    {
     "name": "stdout",
     "output_type": "stream",
     "text": [
      "0\n",
      "1\n",
      "2\n",
      "3\n"
     ]
    }
   ],
   "source": [
    "#Break at 3\n",
    "\n",
    "i= 0\n",
    "while i< 6:\n",
    "    print(i)\n",
    "    if i ==3:\n",
    "        break\n",
    "    i += 1"
   ]
  },
  {
   "cell_type": "code",
   "execution_count": 2,
   "metadata": {},
   "outputs": [
    {
     "name": "stdout",
     "output_type": "stream",
     "text": [
      "1\n",
      "2\n",
      "4\n",
      "5\n",
      "6\n",
      "7\n"
     ]
    }
   ],
   "source": [
    "# Continue\n",
    "\n",
    "i= 0\n",
    "while i < 7:\n",
    "    i += 1\n",
    "    if i ==3:\n",
    "        continue\n",
    "    print(i)"
   ]
  },
  {
   "cell_type": "code",
   "execution_count": 3,
   "metadata": {},
   "outputs": [
    {
     "name": "stdout",
     "output_type": "stream",
     "text": [
      "0\n",
      "1\n",
      "2\n",
      "3\n",
      "4\n",
      "5\n",
      "6\n",
      "i is no longer less than 6\n"
     ]
    }
   ],
   "source": [
    "#The Else statement\n",
    "\n",
    "i =0\n",
    "while i < 7:\n",
    "    print(i)\n",
    "    i += 1\n",
    "else:\n",
    "    print('i is no longer less than 6')"
   ]
  },
  {
   "cell_type": "markdown",
   "metadata": {},
   "source": [
    "## FOR LOOPS"
   ]
  },
  {
   "cell_type": "code",
   "execution_count": 4,
   "metadata": {},
   "outputs": [
    {
     "name": "stdout",
     "output_type": "stream",
     "text": [
      " Sharon\n",
      "Brian\n",
      "Cecilia\n"
     ]
    }
   ],
   "source": [
    "names= [' Sharon', 'Brian','Cecilia']\n",
    "for x in names:\n",
    "    print(x)"
   ]
  },
  {
   "cell_type": "code",
   "execution_count": 5,
   "metadata": {},
   "outputs": [
    {
     "name": "stdout",
     "output_type": "stream",
     "text": [
      "B\n",
      "r\n",
      "i\n",
      "a\n",
      "n\n"
     ]
    }
   ],
   "source": [
    "#Looping through a string\n",
    "\n",
    "for x in 'Brian':\n",
    "    print(x)"
   ]
  },
  {
   "cell_type": "code",
   "execution_count": 8,
   "metadata": {},
   "outputs": [
    {
     "name": "stdout",
     "output_type": "stream",
     "text": [
      "banana\n"
     ]
    }
   ],
   "source": [
    "#The break Statement\n",
    "\n",
    "fruits= ['banana', 'apple', 'mangoe']\n",
    "for x in fruits:\n",
    "    print(x)\n",
    "    if x == 'banana':\n",
    "        break"
   ]
  },
  {
   "cell_type": "code",
   "execution_count": 11,
   "metadata": {},
   "outputs": [
    {
     "name": "stdout",
     "output_type": "stream",
     "text": [
      "dogs\n"
     ]
    }
   ],
   "source": [
    "pets= ['dogs','cats','pigs']\n",
    "for x in pets:\n",
    "    #print(x)\n",
    "    if x == 'cats':\n",
    "        break\n",
    "    print(x)"
   ]
  },
  {
   "cell_type": "code",
   "execution_count": 12,
   "metadata": {},
   "outputs": [
    {
     "name": "stdout",
     "output_type": "stream",
     "text": [
      "cats\n",
      "pigs\n"
     ]
    }
   ],
   "source": [
    "#Continue statement\n",
    "\n",
    "for x in pets:\n",
    "    #print(x)\n",
    "    if x== 'dogs':\n",
    "        continue\n",
    "    print(x)"
   ]
  },
  {
   "cell_type": "code",
   "execution_count": 13,
   "metadata": {},
   "outputs": [
    {
     "name": "stdout",
     "output_type": "stream",
     "text": [
      "0\n",
      "1\n",
      "2\n",
      "3\n",
      "4\n",
      "5\n"
     ]
    }
   ],
   "source": [
    "# Range Statement\n",
    "\n",
    "for x in range (6):\n",
    "    print(x)"
   ]
  },
  {
   "cell_type": "code",
   "execution_count": 14,
   "metadata": {},
   "outputs": [
    {
     "name": "stdout",
     "output_type": "stream",
     "text": [
      "2\n",
      "3\n",
      "4\n",
      "5\n"
     ]
    }
   ],
   "source": [
    "for x in range(2,6):\n",
    "    print(x)"
   ]
  },
  {
   "cell_type": "code",
   "execution_count": 15,
   "metadata": {},
   "outputs": [
    {
     "name": "stdout",
     "output_type": "stream",
     "text": [
      "2\n",
      "5\n",
      "8\n",
      "11\n",
      "14\n",
      "17\n",
      "20\n",
      "23\n",
      "26\n",
      "29\n"
     ]
    }
   ],
   "source": [
    "for x in range(2, 30, 3):\n",
    "    print(x)\n"
   ]
  },
  {
   "cell_type": "code",
   "execution_count": 16,
   "metadata": {},
   "outputs": [
    {
     "name": "stdout",
     "output_type": "stream",
     "text": [
      "0\n",
      "1\n",
      "2\n",
      "3\n",
      "4\n",
      "5\n",
      "Done\n"
     ]
    }
   ],
   "source": [
    "#Else in For Loop\n",
    "\n",
    "for x in range(6):\n",
    "    print(x)\n",
    "else:\n",
    "    print('Done')"
   ]
  },
  {
   "cell_type": "markdown",
   "metadata": {},
   "source": [
    "> NESTED LOOPS"
   ]
  },
  {
   "cell_type": "code",
   "execution_count": 18,
   "metadata": {},
   "outputs": [
    {
     "name": "stdout",
     "output_type": "stream",
     "text": [
      "apple Sharon\n",
      "apple Brian\n",
      "apple Cecilia\n",
      "\n",
      "\n",
      "banana Sharon\n",
      "banana Brian\n",
      "banana Cecilia\n",
      "\n",
      "\n",
      "oranges Sharon\n",
      "oranges Brian\n",
      "oranges Cecilia\n",
      "\n",
      "\n"
     ]
    }
   ],
   "source": [
    "fruits=['apple','banana','oranges']\n",
    "names=['Sharon','Brian','Cecilia']\n",
    "for x in fruits:\n",
    "    for y in names:\n",
    "        print(x,y)\n",
    "    print('\\n')"
   ]
  },
  {
   "cell_type": "markdown",
   "metadata": {},
   "source": [
    "# QUESTIONS"
   ]
  },
  {
   "cell_type": "markdown",
   "metadata": {},
   "source": [
    "## 1. Write a Python program to find those numbers which are divisible by 7 and multiple of 5, between 1500 and 2700 (both included)."
   ]
  },
  {
   "cell_type": "code",
   "execution_count": 47,
   "metadata": {},
   "outputs": [
    {
     "name": "stdout",
     "output_type": "stream",
     "text": [
      "[1505, 1540, 1575, 1610, 1645, 1680, 1715, 1750, 1785, 1820, 1855, 1890, 1925, 1960, 1995, 2030, 2065, 2100, 2135, 2170, 2205, 2240, 2275, 2310, 2345, 2380, 2415, 2450, 2485, 2520, 2555, 2590, 2625, 2660, 2695]\n"
     ]
    }
   ],
   "source": [
    "numbers=[]\n",
    "for x in range(1500,2701):\n",
    "    if (x %7 ==0) & (x%5==0):\n",
    "        numbers.append(x)\n",
    "print(numbers)\n",
    "#         print(x)"
   ]
  },
  {
   "cell_type": "markdown",
   "metadata": {},
   "source": [
    "## 2. Write a Python program to convert temperatures to and from celsius, fahrenheit."
   ]
  },
  {
   "cell_type": "markdown",
   "metadata": {},
   "source": [
    "> Fahrenheit to Celsius formula:\n",
    "\n",
    "(°F - 32) x 5/9 = °C or in plain english, First subtract 32, then multiply by 5,\n",
    "then divide by 9."
   ]
  },
  {
   "cell_type": "markdown",
   "metadata": {},
   "source": [
    "> Celsius to Fahrenheit formula:\n",
    "\n",
    "(°C × 9/5) + 32 = °F or in plain English, Multiple by 5, then divide by 9, then\n",
    "add 32."
   ]
  },
  {
   "cell_type": "code",
   "execution_count": null,
   "metadata": {},
   "outputs": [],
   "source": [
    "temp= int(input('Input temprature'))"
   ]
  },
  {
   "cell_type": "markdown",
   "metadata": {},
   "source": [
    "## 3. Write a Python program to guess a number between 1 to 9"
   ]
  },
  {
   "cell_type": "code",
   "execution_count": null,
   "metadata": {},
   "outputs": [
    {
     "name": "stdin",
     "output_type": "stream",
     "text": [
      "Guess a number between 1 and 10:  3\n"
     ]
    }
   ],
   "source": [
    "import random\n",
    "number, guess_num= random.randint(1,10), 0\n",
    "while number!= guess_num:\n",
    "    guess_num= int(input('Guess a number between 1 and 10: '))\n",
    "print('Well Done')"
   ]
  },
  {
   "cell_type": "markdown",
   "metadata": {},
   "source": [
    "## 4. Write a Python program to construct the following pattern, using a nested for loop."
   ]
  },
  {
   "cell_type": "raw",
   "metadata": {},
   "source": [
    "* \n",
    "* * \n",
    "* * * \n",
    "* * * * \n",
    "* * * * * \n",
    "* * * * \n",
    "* * * \n",
    "* * \n",
    "*"
   ]
  },
  {
   "cell_type": "code",
   "execution_count": 2,
   "metadata": {},
   "outputs": [
    {
     "name": "stdout",
     "output_type": "stream",
     "text": [
      "\n",
      "*\n",
      "**\n",
      "***\n",
      "****\n",
      "*****\n"
     ]
    }
   ],
   "source": [
    "n= 6;\n",
    "for i in range (n):\n",
    "    for j in range(i):\n",
    "        print('*', end='')\n",
    "    print('')\n",
    "\n",
    "        "
   ]
  },
  {
   "cell_type": "markdown",
   "metadata": {},
   "source": [
    "## 5. Write a Python program that accepts a word from the user and reverse it    "
   ]
  },
  {
   "cell_type": "code",
   "execution_count": 20,
   "metadata": {},
   "outputs": [
    {
     "name": "stdin",
     "output_type": "stream",
     "text": [
      "Enter a word to reverse it:  sharon\n"
     ]
    },
    {
     "name": "stdout",
     "output_type": "stream",
     "text": [
      "norahs/n\n"
     ]
    }
   ],
   "source": [
    "word= input('Enter a word to reverse it: ')\n",
    "for char in range (len(word)-1, -1, -1):\n",
    "    print(word[char], end='')\n",
    "print('/n')"
   ]
  },
  {
   "cell_type": "markdown",
   "metadata": {},
   "source": [
    "## 6. Write a Python program to count the number of even and odd numbers from a series of numbers."
   ]
  },
  {
   "cell_type": "code",
   "execution_count": 33,
   "metadata": {},
   "outputs": [
    {
     "name": "stdout",
     "output_type": "stream",
     "text": [
      "Even number in the list 5\n",
      "Odd numbers in th elist 5\n"
     ]
    }
   ],
   "source": [
    "numbers=[0,1,2,3,4,5,6,7,8,9]\n",
    "\n",
    "odd= 0\n",
    "even=0\n",
    "for x in numbers:\n",
    "    if (x%2 == 0):\n",
    "        even+=1\n",
    "    else:\n",
    "        odd+=1\n",
    "print('Even number in the list', even)\n",
    "print('Odd numbers in th elist', odd)\n"
   ]
  },
  {
   "cell_type": "markdown",
   "metadata": {},
   "source": [
    "## 7. Write a Python program that prints each item and its corresponding type from the following list.\n",
    "Sample List : datalist = [1452, 11.23, 1+2j, True, 'w3resource', (0, -1), [5, 12], {\"class\":'V', \"section\":'A'}]"
   ]
  },
  {
   "cell_type": "code",
   "execution_count": null,
   "metadata": {},
   "outputs": [],
   "source": []
  },
  {
   "cell_type": "markdown",
   "metadata": {},
   "source": [
    "## 8. Write a Python program that prints all the numbers from 0 to 6 except 3 and 6."
   ]
  },
  {
   "cell_type": "code",
   "execution_count": 36,
   "metadata": {},
   "outputs": [
    {
     "name": "stdout",
     "output_type": "stream",
     "text": [
      "01245\n",
      "\n"
     ]
    }
   ],
   "source": [
    "list=[0,1,2,3,4,5,6]\n",
    "for x in list:\n",
    "    if (x==3 or x==6):\n",
    "        continue\n",
    "    print(x, end='')\n",
    "print('\\n')\n",
    "\n",
    "    "
   ]
  },
  {
   "cell_type": "markdown",
   "metadata": {},
   "source": [
    "## 9. Write a Python program to get the Fibonacci series between 0 to 50\n",
    "Every next number is found by adding up the two numbers before it."
   ]
  },
  {
   "cell_type": "code",
   "execution_count": 37,
   "metadata": {},
   "outputs": [
    {
     "name": "stdout",
     "output_type": "stream",
     "text": [
      "1\n",
      "1\n",
      "2\n",
      "3\n",
      "5\n",
      "8\n",
      "13\n",
      "21\n",
      "34\n"
     ]
    }
   ],
   "source": [
    "x=0\n",
    "y=1\n",
    "\n",
    "while y< 50:\n",
    "    print(y)\n",
    "    x,y= y,x+y"
   ]
  },
  {
   "cell_type": "markdown",
   "metadata": {},
   "source": [
    "## 10. Write a Python program which iterates the integers from 1 to 50. For multiples of three print \"Fizz\" instead of the number and for the multiples of five print \"Buzz\". For numbers which are multiples of both three and five print \"FizzBuzz\"."
   ]
  },
  {
   "cell_type": "code",
   "execution_count": 48,
   "metadata": {},
   "outputs": [
    {
     "name": "stdout",
     "output_type": "stream",
     "text": [
      "FizzBuzz\n",
      "1\n",
      "2\n",
      "Fizz\n",
      "4\n",
      "Buzz\n",
      "Fizz\n",
      "7\n",
      "8\n",
      "Fizz\n",
      "Buzz\n",
      "11\n",
      "Fizz\n",
      "13\n",
      "14\n",
      "FizzBuzz\n",
      "16\n",
      "17\n",
      "Fizz\n",
      "19\n",
      "Buzz\n",
      "Fizz\n",
      "22\n",
      "23\n",
      "Fizz\n",
      "Buzz\n",
      "26\n",
      "Fizz\n",
      "28\n",
      "29\n",
      "FizzBuzz\n",
      "31\n",
      "32\n",
      "Fizz\n",
      "34\n",
      "Buzz\n",
      "Fizz\n",
      "37\n",
      "38\n",
      "Fizz\n",
      "Buzz\n",
      "41\n",
      "Fizz\n",
      "43\n",
      "44\n",
      "FizzBuzz\n",
      "46\n",
      "47\n",
      "Fizz\n",
      "49\n",
      "Buzz\n"
     ]
    }
   ],
   "source": [
    "for x in range (51):\n",
    "    if (x%3 ==0) & ( x%5 ==0):\n",
    "        print('FizzBuzz')\n",
    "    elif (x%3 == 0):\n",
    "        print('Fizz')\n",
    "    elif (x%5 == 0):\n",
    "        print('Buzz')\n",
    "    else:\n",
    "        print(x)\n"
   ]
  },
  {
   "cell_type": "markdown",
   "metadata": {},
   "source": [
    "## 11. Write a Python program which takes two digits m (row) and n (column) as input and generates a two-dimensional array. The element value in the i-th row and j-th column of the array should be i*j."
   ]
  },
  {
   "cell_type": "code",
   "execution_count": 78,
   "metadata": {},
   "outputs": [
    {
     "name": "stdin",
     "output_type": "stream",
     "text": [
      "Input number of rows:  4\n",
      "Input number of columns:  7\n"
     ]
    },
    {
     "name": "stdout",
     "output_type": "stream",
     "text": [
      "[[0, 0, 0, 0, 0, 0, 0], [0, 1, 2, 3, 4, 5, 6], [0, 2, 4, 6, 8, 10, 12], [0, 3, 6, 9, 12, 15, 18]]\n"
     ]
    }
   ],
   "source": [
    "row_num = int(input(\"Input number of rows: \"))\n",
    "col_num = int(input(\"Input number of columns: \"))\n",
    "multi_list = [[0 for col in range(col_num)] for row in range(row_num)]\n",
    "\n",
    "for row in range(row_num):\n",
    "    for col in range(col_num):\n",
    "        multi_list[row][col]= row*col\n",
    "\n",
    "print(multi_list)"
   ]
  },
  {
   "cell_type": "markdown",
   "metadata": {},
   "source": [
    "## 12. Write a Python program that accepts a sequence of lines (blank line to terminate) as input and prints the lines as output (all characters in lower case)."
   ]
  },
  {
   "cell_type": "code",
   "execution_count": null,
   "metadata": {},
   "outputs": [],
   "source": [
    "lines = []\n",
    "while True:\n",
    "    l = input()\n",
    "    if l:\n",
    "        lines.append(l.upper())\n",
    "    else:\n",
    "        break;\n",
    "\n",
    "for l in lines:\n",
    "    print(l)"
   ]
  },
  {
   "cell_type": "markdown",
   "metadata": {},
   "source": [
    "## 13. Write a Python program which accepts a sequence of comma separated 4 digit binary numbers as its input and print the numbers that are divisible by 5 in a comma separated sequence."
   ]
  },
  {
   "cell_type": "code",
   "execution_count": null,
   "metadata": {},
   "outputs": [],
   "source": [
    "items = []\n",
    "num =[x for x in input().split(',')]\n",
    "for z in num:\n",
    "    y= int(z,2)\n",
    "    if not y%5:\n",
    "        items.append(z)\n",
    "    print(','.join(items))"
   ]
  },
  {
   "cell_type": "markdown",
   "metadata": {},
   "source": [
    "## 14. Write a Python program that accepts a string and calculate the number of digits and letters"
   ]
  },
  {
   "cell_type": "code",
   "execution_count": 50,
   "metadata": {},
   "outputs": [
    {
     "name": "stdin",
     "output_type": "stream",
     "text": [
      "Enter any string:  Sharon 56\n"
     ]
    },
    {
     "name": "stdout",
     "output_type": "stream",
     "text": [
      "Letters 6\n",
      "Digit 2\n"
     ]
    }
   ],
   "source": [
    "word= input('Enter any string: ')\n",
    "d=l=0\n",
    "for c in word:\n",
    "    if c.isdigit():\n",
    "        d= d+1\n",
    "    elif c.isalpha():\n",
    "        l= l+1\n",
    "    else:\n",
    "        pass\n",
    "print('Letters', l)\n",
    "print('Digit', d)\n",
    "    "
   ]
  },
  {
   "cell_type": "markdown",
   "metadata": {},
   "source": [
    "## 15. Write a Python program to check the validity of password input by users.\n",
    "Validation :\n",
    "\n",
    "At least 1 letter between [a-z] and 1 letter between [A-Z].\n",
    "\n",
    "At least 1 number between [0-9].\n",
    "\n",
    "At least 1 character from [$#@].\n",
    "\n",
    "Minimum length 6 characters.\n",
    "\n",
    "Maximum length 16 characters.\n",
    "\n",
    "Click me to see the sample solut"
   ]
  },
  {
   "cell_type": "code",
   "execution_count": 57,
   "metadata": {},
   "outputs": [
    {
     "name": "stdin",
     "output_type": "stream",
     "text": [
      "Input your password Sh@rOn123#\n"
     ]
    },
    {
     "name": "stdout",
     "output_type": "stream",
     "text": [
      "Valid Password\n"
     ]
    }
   ],
   "source": [
    "import re\n",
    "p= input(\"Input your password\")\n",
    "x = True\n",
    "while x:  \n",
    "    if (len(p)<6 or len(p)>12):\n",
    "        break\n",
    "    elif not re.search(\"[a-z]\",p):\n",
    "        break\n",
    "    elif not re.search(\"[0-9]\",p):\n",
    "        break\n",
    "    elif not re.search(\"[A-Z]\",p):\n",
    "        break\n",
    "    elif not re.search(\"[$#@]\",p):\n",
    "        break\n",
    "    elif re.search(\"\\s\",p):\n",
    "        break\n",
    "    else:\n",
    "        print(\"Valid Password\")\n",
    "        x=False\n",
    "        break\n",
    "\n",
    "if x:\n",
    "    print(\"Not a Valid Password\")"
   ]
  },
  {
   "cell_type": "markdown",
   "metadata": {},
   "source": [
    "## 16. Write a Python program to find numbers between 100 and 400 (both included) where each digit of a number is an even number. The numbers obtained should be printed in a comma-separated sequence"
   ]
  },
  {
   "cell_type": "code",
   "execution_count": 69,
   "metadata": {},
   "outputs": [
    {
     "name": "stdout",
     "output_type": "stream",
     "text": [
      "\n",
      "\n",
      "\n",
      "\n",
      "\n",
      "\n",
      "\n",
      "\n",
      "\n",
      "\n",
      "\n",
      "\n",
      "\n",
      "\n",
      "\n",
      "\n",
      "\n",
      "\n",
      "\n",
      "\n",
      "\n",
      "\n",
      "\n",
      "\n",
      "\n",
      "\n",
      "\n",
      "\n",
      "\n",
      "\n",
      "\n",
      "\n",
      "\n",
      "\n",
      "\n",
      "\n",
      "\n",
      "\n",
      "\n",
      "\n",
      "\n",
      "\n",
      "\n",
      "\n",
      "\n",
      "\n",
      "\n",
      "\n",
      "\n",
      "\n",
      "\n",
      "\n",
      "\n",
      "\n",
      "\n",
      "\n",
      "\n",
      "\n",
      "\n",
      "\n",
      "\n",
      "\n",
      "\n",
      "\n",
      "\n",
      "\n",
      "\n",
      "\n",
      "\n",
      "\n",
      "\n",
      "\n",
      "\n",
      "\n",
      "\n",
      "\n",
      "\n",
      "\n",
      "\n",
      "\n",
      "\n",
      "\n",
      "\n",
      "\n",
      "\n",
      "\n",
      "\n",
      "\n",
      "\n",
      "\n",
      "\n",
      "\n",
      "\n",
      "\n",
      "\n",
      "\n",
      "\n",
      "\n",
      "\n",
      "\n",
      "200\n",
      "200\n",
      "200,202\n",
      "200,202\n",
      "200,202,204\n",
      "200,202,204\n",
      "200,202,204,206\n",
      "200,202,204,206\n",
      "200,202,204,206,208\n",
      "200,202,204,206,208\n",
      "200,202,204,206,208\n",
      "200,202,204,206,208\n",
      "200,202,204,206,208\n",
      "200,202,204,206,208\n",
      "200,202,204,206,208\n",
      "200,202,204,206,208\n",
      "200,202,204,206,208\n",
      "200,202,204,206,208\n",
      "200,202,204,206,208\n",
      "200,202,204,206,208\n",
      "200,202,204,206,208,220\n",
      "200,202,204,206,208,220\n",
      "200,202,204,206,208,220,222\n",
      "200,202,204,206,208,220,222\n",
      "200,202,204,206,208,220,222,224\n",
      "200,202,204,206,208,220,222,224\n",
      "200,202,204,206,208,220,222,224,226\n",
      "200,202,204,206,208,220,222,224,226\n",
      "200,202,204,206,208,220,222,224,226,228\n",
      "200,202,204,206,208,220,222,224,226,228\n",
      "200,202,204,206,208,220,222,224,226,228\n",
      "200,202,204,206,208,220,222,224,226,228\n",
      "200,202,204,206,208,220,222,224,226,228\n",
      "200,202,204,206,208,220,222,224,226,228\n",
      "200,202,204,206,208,220,222,224,226,228\n",
      "200,202,204,206,208,220,222,224,226,228\n",
      "200,202,204,206,208,220,222,224,226,228\n",
      "200,202,204,206,208,220,222,224,226,228\n",
      "200,202,204,206,208,220,222,224,226,228\n",
      "200,202,204,206,208,220,222,224,226,228\n",
      "200,202,204,206,208,220,222,224,226,228,240\n",
      "200,202,204,206,208,220,222,224,226,228,240\n",
      "200,202,204,206,208,220,222,224,226,228,240,242\n",
      "200,202,204,206,208,220,222,224,226,228,240,242\n",
      "200,202,204,206,208,220,222,224,226,228,240,242,244\n",
      "200,202,204,206,208,220,222,224,226,228,240,242,244\n",
      "200,202,204,206,208,220,222,224,226,228,240,242,244,246\n",
      "200,202,204,206,208,220,222,224,226,228,240,242,244,246\n",
      "200,202,204,206,208,220,222,224,226,228,240,242,244,246,248\n",
      "200,202,204,206,208,220,222,224,226,228,240,242,244,246,248\n",
      "200,202,204,206,208,220,222,224,226,228,240,242,244,246,248\n",
      "200,202,204,206,208,220,222,224,226,228,240,242,244,246,248\n",
      "200,202,204,206,208,220,222,224,226,228,240,242,244,246,248\n",
      "200,202,204,206,208,220,222,224,226,228,240,242,244,246,248\n",
      "200,202,204,206,208,220,222,224,226,228,240,242,244,246,248\n",
      "200,202,204,206,208,220,222,224,226,228,240,242,244,246,248\n",
      "200,202,204,206,208,220,222,224,226,228,240,242,244,246,248\n",
      "200,202,204,206,208,220,222,224,226,228,240,242,244,246,248\n",
      "200,202,204,206,208,220,222,224,226,228,240,242,244,246,248\n",
      "200,202,204,206,208,220,222,224,226,228,240,242,244,246,248\n",
      "200,202,204,206,208,220,222,224,226,228,240,242,244,246,248,260\n",
      "200,202,204,206,208,220,222,224,226,228,240,242,244,246,248,260\n",
      "200,202,204,206,208,220,222,224,226,228,240,242,244,246,248,260,262\n",
      "200,202,204,206,208,220,222,224,226,228,240,242,244,246,248,260,262\n",
      "200,202,204,206,208,220,222,224,226,228,240,242,244,246,248,260,262,264\n",
      "200,202,204,206,208,220,222,224,226,228,240,242,244,246,248,260,262,264\n",
      "200,202,204,206,208,220,222,224,226,228,240,242,244,246,248,260,262,264,266\n",
      "200,202,204,206,208,220,222,224,226,228,240,242,244,246,248,260,262,264,266\n",
      "200,202,204,206,208,220,222,224,226,228,240,242,244,246,248,260,262,264,266,268\n",
      "200,202,204,206,208,220,222,224,226,228,240,242,244,246,248,260,262,264,266,268\n",
      "200,202,204,206,208,220,222,224,226,228,240,242,244,246,248,260,262,264,266,268\n",
      "200,202,204,206,208,220,222,224,226,228,240,242,244,246,248,260,262,264,266,268\n",
      "200,202,204,206,208,220,222,224,226,228,240,242,244,246,248,260,262,264,266,268\n",
      "200,202,204,206,208,220,222,224,226,228,240,242,244,246,248,260,262,264,266,268\n",
      "200,202,204,206,208,220,222,224,226,228,240,242,244,246,248,260,262,264,266,268\n",
      "200,202,204,206,208,220,222,224,226,228,240,242,244,246,248,260,262,264,266,268\n",
      "200,202,204,206,208,220,222,224,226,228,240,242,244,246,248,260,262,264,266,268\n",
      "200,202,204,206,208,220,222,224,226,228,240,242,244,246,248,260,262,264,266,268\n",
      "200,202,204,206,208,220,222,224,226,228,240,242,244,246,248,260,262,264,266,268\n",
      "200,202,204,206,208,220,222,224,226,228,240,242,244,246,248,260,262,264,266,268\n",
      "200,202,204,206,208,220,222,224,226,228,240,242,244,246,248,260,262,264,266,268,280\n",
      "200,202,204,206,208,220,222,224,226,228,240,242,244,246,248,260,262,264,266,268,280\n",
      "200,202,204,206,208,220,222,224,226,228,240,242,244,246,248,260,262,264,266,268,280,282\n",
      "200,202,204,206,208,220,222,224,226,228,240,242,244,246,248,260,262,264,266,268,280,282\n",
      "200,202,204,206,208,220,222,224,226,228,240,242,244,246,248,260,262,264,266,268,280,282,284\n",
      "200,202,204,206,208,220,222,224,226,228,240,242,244,246,248,260,262,264,266,268,280,282,284\n",
      "200,202,204,206,208,220,222,224,226,228,240,242,244,246,248,260,262,264,266,268,280,282,284,286\n",
      "200,202,204,206,208,220,222,224,226,228,240,242,244,246,248,260,262,264,266,268,280,282,284,286\n",
      "200,202,204,206,208,220,222,224,226,228,240,242,244,246,248,260,262,264,266,268,280,282,284,286,288\n",
      "200,202,204,206,208,220,222,224,226,228,240,242,244,246,248,260,262,264,266,268,280,282,284,286,288\n",
      "200,202,204,206,208,220,222,224,226,228,240,242,244,246,248,260,262,264,266,268,280,282,284,286,288\n",
      "200,202,204,206,208,220,222,224,226,228,240,242,244,246,248,260,262,264,266,268,280,282,284,286,288\n",
      "200,202,204,206,208,220,222,224,226,228,240,242,244,246,248,260,262,264,266,268,280,282,284,286,288\n",
      "200,202,204,206,208,220,222,224,226,228,240,242,244,246,248,260,262,264,266,268,280,282,284,286,288\n",
      "200,202,204,206,208,220,222,224,226,228,240,242,244,246,248,260,262,264,266,268,280,282,284,286,288\n",
      "200,202,204,206,208,220,222,224,226,228,240,242,244,246,248,260,262,264,266,268,280,282,284,286,288\n",
      "200,202,204,206,208,220,222,224,226,228,240,242,244,246,248,260,262,264,266,268,280,282,284,286,288\n",
      "200,202,204,206,208,220,222,224,226,228,240,242,244,246,248,260,262,264,266,268,280,282,284,286,288\n",
      "200,202,204,206,208,220,222,224,226,228,240,242,244,246,248,260,262,264,266,268,280,282,284,286,288\n",
      "200,202,204,206,208,220,222,224,226,228,240,242,244,246,248,260,262,264,266,268,280,282,284,286,288\n",
      "200,202,204,206,208,220,222,224,226,228,240,242,244,246,248,260,262,264,266,268,280,282,284,286,288\n",
      "200,202,204,206,208,220,222,224,226,228,240,242,244,246,248,260,262,264,266,268,280,282,284,286,288\n",
      "200,202,204,206,208,220,222,224,226,228,240,242,244,246,248,260,262,264,266,268,280,282,284,286,288\n",
      "200,202,204,206,208,220,222,224,226,228,240,242,244,246,248,260,262,264,266,268,280,282,284,286,288\n",
      "200,202,204,206,208,220,222,224,226,228,240,242,244,246,248,260,262,264,266,268,280,282,284,286,288\n",
      "200,202,204,206,208,220,222,224,226,228,240,242,244,246,248,260,262,264,266,268,280,282,284,286,288\n",
      "200,202,204,206,208,220,222,224,226,228,240,242,244,246,248,260,262,264,266,268,280,282,284,286,288\n",
      "200,202,204,206,208,220,222,224,226,228,240,242,244,246,248,260,262,264,266,268,280,282,284,286,288\n",
      "200,202,204,206,208,220,222,224,226,228,240,242,244,246,248,260,262,264,266,268,280,282,284,286,288\n",
      "200,202,204,206,208,220,222,224,226,228,240,242,244,246,248,260,262,264,266,268,280,282,284,286,288\n",
      "200,202,204,206,208,220,222,224,226,228,240,242,244,246,248,260,262,264,266,268,280,282,284,286,288\n",
      "200,202,204,206,208,220,222,224,226,228,240,242,244,246,248,260,262,264,266,268,280,282,284,286,288\n",
      "200,202,204,206,208,220,222,224,226,228,240,242,244,246,248,260,262,264,266,268,280,282,284,286,288\n",
      "200,202,204,206,208,220,222,224,226,228,240,242,244,246,248,260,262,264,266,268,280,282,284,286,288\n",
      "200,202,204,206,208,220,222,224,226,228,240,242,244,246,248,260,262,264,266,268,280,282,284,286,288\n",
      "200,202,204,206,208,220,222,224,226,228,240,242,244,246,248,260,262,264,266,268,280,282,284,286,288\n",
      "200,202,204,206,208,220,222,224,226,228,240,242,244,246,248,260,262,264,266,268,280,282,284,286,288\n",
      "200,202,204,206,208,220,222,224,226,228,240,242,244,246,248,260,262,264,266,268,280,282,284,286,288\n",
      "200,202,204,206,208,220,222,224,226,228,240,242,244,246,248,260,262,264,266,268,280,282,284,286,288\n",
      "200,202,204,206,208,220,222,224,226,228,240,242,244,246,248,260,262,264,266,268,280,282,284,286,288\n",
      "200,202,204,206,208,220,222,224,226,228,240,242,244,246,248,260,262,264,266,268,280,282,284,286,288\n",
      "200,202,204,206,208,220,222,224,226,228,240,242,244,246,248,260,262,264,266,268,280,282,284,286,288\n",
      "200,202,204,206,208,220,222,224,226,228,240,242,244,246,248,260,262,264,266,268,280,282,284,286,288\n",
      "200,202,204,206,208,220,222,224,226,228,240,242,244,246,248,260,262,264,266,268,280,282,284,286,288\n",
      "200,202,204,206,208,220,222,224,226,228,240,242,244,246,248,260,262,264,266,268,280,282,284,286,288\n",
      "200,202,204,206,208,220,222,224,226,228,240,242,244,246,248,260,262,264,266,268,280,282,284,286,288\n",
      "200,202,204,206,208,220,222,224,226,228,240,242,244,246,248,260,262,264,266,268,280,282,284,286,288\n",
      "200,202,204,206,208,220,222,224,226,228,240,242,244,246,248,260,262,264,266,268,280,282,284,286,288\n",
      "200,202,204,206,208,220,222,224,226,228,240,242,244,246,248,260,262,264,266,268,280,282,284,286,288\n",
      "200,202,204,206,208,220,222,224,226,228,240,242,244,246,248,260,262,264,266,268,280,282,284,286,288\n",
      "200,202,204,206,208,220,222,224,226,228,240,242,244,246,248,260,262,264,266,268,280,282,284,286,288\n",
      "200,202,204,206,208,220,222,224,226,228,240,242,244,246,248,260,262,264,266,268,280,282,284,286,288\n",
      "200,202,204,206,208,220,222,224,226,228,240,242,244,246,248,260,262,264,266,268,280,282,284,286,288\n",
      "200,202,204,206,208,220,222,224,226,228,240,242,244,246,248,260,262,264,266,268,280,282,284,286,288\n",
      "200,202,204,206,208,220,222,224,226,228,240,242,244,246,248,260,262,264,266,268,280,282,284,286,288\n",
      "200,202,204,206,208,220,222,224,226,228,240,242,244,246,248,260,262,264,266,268,280,282,284,286,288\n",
      "200,202,204,206,208,220,222,224,226,228,240,242,244,246,248,260,262,264,266,268,280,282,284,286,288\n",
      "200,202,204,206,208,220,222,224,226,228,240,242,244,246,248,260,262,264,266,268,280,282,284,286,288\n",
      "200,202,204,206,208,220,222,224,226,228,240,242,244,246,248,260,262,264,266,268,280,282,284,286,288\n",
      "200,202,204,206,208,220,222,224,226,228,240,242,244,246,248,260,262,264,266,268,280,282,284,286,288\n",
      "200,202,204,206,208,220,222,224,226,228,240,242,244,246,248,260,262,264,266,268,280,282,284,286,288\n",
      "200,202,204,206,208,220,222,224,226,228,240,242,244,246,248,260,262,264,266,268,280,282,284,286,288\n",
      "200,202,204,206,208,220,222,224,226,228,240,242,244,246,248,260,262,264,266,268,280,282,284,286,288\n",
      "200,202,204,206,208,220,222,224,226,228,240,242,244,246,248,260,262,264,266,268,280,282,284,286,288\n",
      "200,202,204,206,208,220,222,224,226,228,240,242,244,246,248,260,262,264,266,268,280,282,284,286,288\n",
      "200,202,204,206,208,220,222,224,226,228,240,242,244,246,248,260,262,264,266,268,280,282,284,286,288\n",
      "200,202,204,206,208,220,222,224,226,228,240,242,244,246,248,260,262,264,266,268,280,282,284,286,288\n",
      "200,202,204,206,208,220,222,224,226,228,240,242,244,246,248,260,262,264,266,268,280,282,284,286,288\n",
      "200,202,204,206,208,220,222,224,226,228,240,242,244,246,248,260,262,264,266,268,280,282,284,286,288\n",
      "200,202,204,206,208,220,222,224,226,228,240,242,244,246,248,260,262,264,266,268,280,282,284,286,288\n",
      "200,202,204,206,208,220,222,224,226,228,240,242,244,246,248,260,262,264,266,268,280,282,284,286,288\n",
      "200,202,204,206,208,220,222,224,226,228,240,242,244,246,248,260,262,264,266,268,280,282,284,286,288\n",
      "200,202,204,206,208,220,222,224,226,228,240,242,244,246,248,260,262,264,266,268,280,282,284,286,288\n",
      "200,202,204,206,208,220,222,224,226,228,240,242,244,246,248,260,262,264,266,268,280,282,284,286,288\n",
      "200,202,204,206,208,220,222,224,226,228,240,242,244,246,248,260,262,264,266,268,280,282,284,286,288\n",
      "200,202,204,206,208,220,222,224,226,228,240,242,244,246,248,260,262,264,266,268,280,282,284,286,288\n",
      "200,202,204,206,208,220,222,224,226,228,240,242,244,246,248,260,262,264,266,268,280,282,284,286,288\n",
      "200,202,204,206,208,220,222,224,226,228,240,242,244,246,248,260,262,264,266,268,280,282,284,286,288\n",
      "200,202,204,206,208,220,222,224,226,228,240,242,244,246,248,260,262,264,266,268,280,282,284,286,288\n",
      "200,202,204,206,208,220,222,224,226,228,240,242,244,246,248,260,262,264,266,268,280,282,284,286,288\n",
      "200,202,204,206,208,220,222,224,226,228,240,242,244,246,248,260,262,264,266,268,280,282,284,286,288\n",
      "200,202,204,206,208,220,222,224,226,228,240,242,244,246,248,260,262,264,266,268,280,282,284,286,288\n",
      "200,202,204,206,208,220,222,224,226,228,240,242,244,246,248,260,262,264,266,268,280,282,284,286,288\n",
      "200,202,204,206,208,220,222,224,226,228,240,242,244,246,248,260,262,264,266,268,280,282,284,286,288\n",
      "200,202,204,206,208,220,222,224,226,228,240,242,244,246,248,260,262,264,266,268,280,282,284,286,288\n",
      "200,202,204,206,208,220,222,224,226,228,240,242,244,246,248,260,262,264,266,268,280,282,284,286,288\n",
      "200,202,204,206,208,220,222,224,226,228,240,242,244,246,248,260,262,264,266,268,280,282,284,286,288\n",
      "200,202,204,206,208,220,222,224,226,228,240,242,244,246,248,260,262,264,266,268,280,282,284,286,288\n",
      "200,202,204,206,208,220,222,224,226,228,240,242,244,246,248,260,262,264,266,268,280,282,284,286,288\n",
      "200,202,204,206,208,220,222,224,226,228,240,242,244,246,248,260,262,264,266,268,280,282,284,286,288\n",
      "200,202,204,206,208,220,222,224,226,228,240,242,244,246,248,260,262,264,266,268,280,282,284,286,288\n",
      "200,202,204,206,208,220,222,224,226,228,240,242,244,246,248,260,262,264,266,268,280,282,284,286,288\n",
      "200,202,204,206,208,220,222,224,226,228,240,242,244,246,248,260,262,264,266,268,280,282,284,286,288\n",
      "200,202,204,206,208,220,222,224,226,228,240,242,244,246,248,260,262,264,266,268,280,282,284,286,288\n",
      "200,202,204,206,208,220,222,224,226,228,240,242,244,246,248,260,262,264,266,268,280,282,284,286,288\n",
      "200,202,204,206,208,220,222,224,226,228,240,242,244,246,248,260,262,264,266,268,280,282,284,286,288\n",
      "200,202,204,206,208,220,222,224,226,228,240,242,244,246,248,260,262,264,266,268,280,282,284,286,288\n",
      "200,202,204,206,208,220,222,224,226,228,240,242,244,246,248,260,262,264,266,268,280,282,284,286,288\n",
      "200,202,204,206,208,220,222,224,226,228,240,242,244,246,248,260,262,264,266,268,280,282,284,286,288\n",
      "200,202,204,206,208,220,222,224,226,228,240,242,244,246,248,260,262,264,266,268,280,282,284,286,288\n",
      "200,202,204,206,208,220,222,224,226,228,240,242,244,246,248,260,262,264,266,268,280,282,284,286,288\n",
      "200,202,204,206,208,220,222,224,226,228,240,242,244,246,248,260,262,264,266,268,280,282,284,286,288\n",
      "200,202,204,206,208,220,222,224,226,228,240,242,244,246,248,260,262,264,266,268,280,282,284,286,288\n",
      "200,202,204,206,208,220,222,224,226,228,240,242,244,246,248,260,262,264,266,268,280,282,284,286,288\n",
      "200,202,204,206,208,220,222,224,226,228,240,242,244,246,248,260,262,264,266,268,280,282,284,286,288\n",
      "200,202,204,206,208,220,222,224,226,228,240,242,244,246,248,260,262,264,266,268,280,282,284,286,288\n",
      "200,202,204,206,208,220,222,224,226,228,240,242,244,246,248,260,262,264,266,268,280,282,284,286,288\n",
      "200,202,204,206,208,220,222,224,226,228,240,242,244,246,248,260,262,264,266,268,280,282,284,286,288\n",
      "200,202,204,206,208,220,222,224,226,228,240,242,244,246,248,260,262,264,266,268,280,282,284,286,288\n",
      "200,202,204,206,208,220,222,224,226,228,240,242,244,246,248,260,262,264,266,268,280,282,284,286,288\n",
      "200,202,204,206,208,220,222,224,226,228,240,242,244,246,248,260,262,264,266,268,280,282,284,286,288\n",
      "200,202,204,206,208,220,222,224,226,228,240,242,244,246,248,260,262,264,266,268,280,282,284,286,288\n",
      "200,202,204,206,208,220,222,224,226,228,240,242,244,246,248,260,262,264,266,268,280,282,284,286,288\n",
      "200,202,204,206,208,220,222,224,226,228,240,242,244,246,248,260,262,264,266,268,280,282,284,286,288\n",
      "200,202,204,206,208,220,222,224,226,228,240,242,244,246,248,260,262,264,266,268,280,282,284,286,288\n",
      "200,202,204,206,208,220,222,224,226,228,240,242,244,246,248,260,262,264,266,268,280,282,284,286,288\n",
      "200,202,204,206,208,220,222,224,226,228,240,242,244,246,248,260,262,264,266,268,280,282,284,286,288\n",
      "200,202,204,206,208,220,222,224,226,228,240,242,244,246,248,260,262,264,266,268,280,282,284,286,288\n",
      "200,202,204,206,208,220,222,224,226,228,240,242,244,246,248,260,262,264,266,268,280,282,284,286,288\n",
      "200,202,204,206,208,220,222,224,226,228,240,242,244,246,248,260,262,264,266,268,280,282,284,286,288\n",
      "200,202,204,206,208,220,222,224,226,228,240,242,244,246,248,260,262,264,266,268,280,282,284,286,288,400\n"
     ]
    }
   ],
   "source": [
    "numbers= []\n",
    "for x in range (100,401):\n",
    "    s= str(x)\n",
    "    if(int(s[0])%2 == 0) and (int(s[1])%2 ==0) and (int(s[2])%2 == 0):\n",
    "        numbers.append(s)\n",
    "    print(\",\" .join(numbers))"
   ]
  },
  {
   "cell_type": "markdown",
   "metadata": {},
   "source": [
    "## 17. Write a Python program to print alphabet pattern 'A"
   ]
  },
  {
   "cell_type": "code",
   "execution_count": 70,
   "metadata": {},
   "outputs": [
    {
     "name": "stdout",
     "output_type": "stream",
     "text": [
      "  ***  \n",
      " *   * \n",
      " *   * \n",
      " ***** \n",
      " *   * \n",
      " *   * \n",
      " *   * \n",
      "\n"
     ]
    }
   ],
   "source": [
    "result_str=\"\";    \n",
    "for row in range(0,7):    \n",
    "    for column in range(0,7):     \n",
    "        if (((column == 1 or column == 5) and row != 0) or ((row == 0 or row == 3) and (column > 1 and column < 5))):    \n",
    "            result_str=result_str+\"*\"    \n",
    "        else:      \n",
    "            result_str=result_str+\" \"    \n",
    "    result_str=result_str+\"\\n\"    \n",
    "print(result_str);"
   ]
  },
  {
   "cell_type": "markdown",
   "metadata": {},
   "source": [
    "## 18. Write a Python program to print alphabet pattern 'D'"
   ]
  },
  {
   "cell_type": "code",
   "execution_count": 71,
   "metadata": {},
   "outputs": [
    {
     "name": "stdout",
     "output_type": "stream",
     "text": [
      " ****  \n",
      " *   * \n",
      " *   * \n",
      " *   * \n",
      " *   * \n",
      " *   * \n",
      " ****  \n",
      "\n"
     ]
    }
   ],
   "source": [
    "result_str=\"\";    \n",
    "for row in range(0,7):    \n",
    "    for column in range(0,7):     \n",
    "        if (column == 1 or ((row == 0 or row == 6) and (column > 1 and column < 5)) or (column == 5 and row != 0 and row != 6)):  \n",
    "            result_str=result_str+\"*\"    \n",
    "        else:      \n",
    "            result_str=result_str+\" \"    \n",
    "    result_str=result_str+\"\\n\"    \n",
    "print(result_str);"
   ]
  },
  {
   "cell_type": "markdown",
   "metadata": {},
   "source": [
    "## 19. Write a Python program to print alphabet pattern 'E"
   ]
  },
  {
   "cell_type": "code",
   "execution_count": 74,
   "metadata": {},
   "outputs": [
    {
     "name": "stdout",
     "output_type": "stream",
     "text": [
      " ***** \n",
      " *     \n",
      " *     \n",
      " ****  \n",
      " *     \n",
      " *     \n",
      " ***** \n",
      "\n"
     ]
    }
   ],
   "source": [
    "result_str=\"\";\n",
    "for row in range(0,7):\n",
    "    for column in range(0,7):\n",
    "        if(column == 1 or ((row == 0 or row ==6) and (column > 1 and column <6)) or (row== 3 and column > 1 and column < 5)):\n",
    "          result_str= result_str+\"*\"\n",
    "        else:\n",
    "          result_str = result_str+\" \"\n",
    "    result_str = result_str+\"\\n\"\n",
    "print(result_str);"
   ]
  },
  {
   "cell_type": "markdown",
   "metadata": {},
   "source": [
    "## 20. Write a Python program to calculate a dog's age in dog's years.\n",
    "Note: For the first two years, a dog year is equal to 10.5 human years. After that, each dog year equals 4 human years."
   ]
  },
  {
   "cell_type": "code",
   "execution_count": 75,
   "metadata": {},
   "outputs": [
    {
     "name": "stdin",
     "output_type": "stream",
     "text": [
      "Input a dogs age in human years:  4\n"
     ]
    },
    {
     "name": "stdout",
     "output_type": "stream",
     "text": [
      "The dogs age in dogs years is 29\n"
     ]
    }
   ],
   "source": [
    "h_age= int(input('Input a dogs age in human years: '))\n",
    "if h_age < 0:\n",
    "    print('Age is a positive number')\n",
    "    exit()\n",
    "elif h_age <= 2:\n",
    "    d_age = h_age * 10.5\n",
    "else:\n",
    "    d_age = 21 +( h_age -2)* 4\n",
    "print('The dogs age in dogs years is', d_age)\n",
    "                 "
   ]
  },
  {
   "cell_type": "markdown",
   "metadata": {},
   "source": [
    "## 21. Write a Python program to check a string represent an integer or not"
   ]
  },
  {
   "cell_type": "code",
   "execution_count": 76,
   "metadata": {},
   "outputs": [
    {
     "name": "stdin",
     "output_type": "stream",
     "text": [
      "Input a string:  Nzaya\n"
     ]
    },
    {
     "name": "stdout",
     "output_type": "stream",
     "text": [
      "The string is not an integer\n"
     ]
    }
   ],
   "source": [
    "text = input('Input a string: ')\n",
    "text= text.strip()\n",
    "if len(text) < 1:\n",
    "    print('Input a valid text')\n",
    "else:\n",
    "    if all(text[i] in \"0123456789\" for i in range(len(text))):\n",
    "        print('The string is an Integer')\n",
    "    elif ( text[0] in \"+-\") and \\\n",
    "         all(text[i] in \"0123456789\" for i in range(1, len(text))):\n",
    "         print(\"The string is an integer\")\n",
    "    else:\n",
    "        print('The string is not an integer')\n"
   ]
  },
  {
   "cell_type": "markdown",
   "metadata": {},
   "source": [
    "## 23. Write a Python program to check a triangle is equilateral, isosceles or scalene."
   ]
  },
  {
   "cell_type": "code",
   "execution_count": 77,
   "metadata": {},
   "outputs": [
    {
     "name": "stdout",
     "output_type": "stream",
     "text": [
      "Input length of the triangles: \n"
     ]
    },
    {
     "name": "stdin",
     "output_type": "stream",
     "text": [
      "x:  76\n",
      "y:  12\n",
      "z:  60\n"
     ]
    },
    {
     "name": "stdout",
     "output_type": "stream",
     "text": [
      "Scalene Triangle\n"
     ]
    }
   ],
   "source": [
    "print('Input length of the triangles: ')\n",
    "x= int(input('x: '))\n",
    "y= int(input('y: '))\n",
    "z= int(input('z: '))\n",
    "\n",
    "if x==y==z:\n",
    "    print('Equilateral triangle')\n",
    "elif x==y or y==z or z==x:\n",
    "    print('Isosceles Triangle')\n",
    "else:\n",
    "    print('Scalene Triangle')"
   ]
  },
  {
   "cell_type": "markdown",
   "metadata": {},
   "source": [
    "## 24. Write a Python program to check whether an alphabet is a vowel or consonant"
   ]
  },
  {
   "cell_type": "code",
   "execution_count": 2,
   "metadata": {},
   "outputs": [
    {
     "name": "stdin",
     "output_type": "stream",
     "text": [
      "Input a letter of the alphabet:  d\n"
     ]
    },
    {
     "name": "stdout",
     "output_type": "stream",
     "text": [
      "d is a consonant.\n"
     ]
    }
   ],
   "source": [
    "l = input(\"Input a letter of the alphabet: \")\n",
    "\n",
    "if l in ('a', 'e', 'i', 'o', 'u'):\n",
    "\tprint(\"%s is a vowel.\" % l)\n",
    "elif l == 'y':\n",
    "\tprint(\"Sometimes letter y stand for vowel, sometimes stand for consonant.\")\n",
    "else:\n",
    "\tprint(\"%s is a consonant.\" % l) \n",
    "\t"
   ]
  },
  {
   "cell_type": "code",
   "execution_count": null,
   "metadata": {},
   "outputs": [],
   "source": []
  },
  {
   "cell_type": "markdown",
   "metadata": {},
   "source": [
    "## Remove Percantages"
   ]
  },
  {
   "cell_type": "code",
   "execution_count": 44,
   "metadata": {},
   "outputs": [
    {
     "data": {
      "text/plain": [
       "0.43200000000000005"
      ]
     },
     "execution_count": 44,
     "metadata": {},
     "output_type": "execute_result"
    }
   ],
   "source": [
    "def string(x):\n",
    "    y = x.strip('%')\n",
    "    z = float(y) / 100\n",
    "    return z\n",
    "string('43.2%')"
   ]
  },
  {
   "cell_type": "code",
   "execution_count": 52,
   "metadata": {},
   "outputs": [],
   "source": [
    "import pandas as pd"
   ]
  },
  {
   "cell_type": "code",
   "execution_count": 53,
   "metadata": {},
   "outputs": [
    {
     "data": {
      "text/html": [
       "<div>\n",
       "<style scoped>\n",
       "    .dataframe tbody tr th:only-of-type {\n",
       "        vertical-align: middle;\n",
       "    }\n",
       "\n",
       "    .dataframe tbody tr th {\n",
       "        vertical-align: top;\n",
       "    }\n",
       "\n",
       "    .dataframe thead th {\n",
       "        text-align: right;\n",
       "    }\n",
       "</style>\n",
       "<table border=\"1\" class=\"dataframe\">\n",
       "  <thead>\n",
       "    <tr style=\"text-align: right;\">\n",
       "      <th></th>\n",
       "      <th>first_name</th>\n",
       "      <th>last_name</th>\n",
       "      <th>age</th>\n",
       "      <th>preTestScore</th>\n",
       "      <th>postTestScore</th>\n",
       "    </tr>\n",
       "  </thead>\n",
       "  <tbody>\n",
       "    <tr>\n",
       "      <th>0</th>\n",
       "      <td>Sarah</td>\n",
       "      <td>Mornig</td>\n",
       "      <td>53</td>\n",
       "      <td>13 %</td>\n",
       "      <td>82 %</td>\n",
       "    </tr>\n",
       "    <tr>\n",
       "      <th>1</th>\n",
       "      <td>Gueniva</td>\n",
       "      <td>Jaker</td>\n",
       "      <td>26</td>\n",
       "      <td>52 %</td>\n",
       "      <td>52 %</td>\n",
       "    </tr>\n",
       "    <tr>\n",
       "      <th>2</th>\n",
       "      <td>Know</td>\n",
       "      <td>Alom</td>\n",
       "      <td>72</td>\n",
       "      <td>72 %</td>\n",
       "      <td>56 %</td>\n",
       "    </tr>\n",
       "    <tr>\n",
       "      <th>3</th>\n",
       "      <td>Sara</td>\n",
       "      <td>Ormon</td>\n",
       "      <td>73</td>\n",
       "      <td>26 %</td>\n",
       "      <td>234 %</td>\n",
       "    </tr>\n",
       "    <tr>\n",
       "      <th>4</th>\n",
       "      <td>Cat</td>\n",
       "      <td>Koozer</td>\n",
       "      <td>24</td>\n",
       "      <td>26 %</td>\n",
       "      <td>254 %</td>\n",
       "    </tr>\n",
       "  </tbody>\n",
       "</table>\n",
       "</div>"
      ],
      "text/plain": [
       "  first_name last_name  age preTestScore postTestScore\n",
       "0      Sarah    Mornig   53         13 %          82 %\n",
       "1    Gueniva     Jaker   26         52 %          52 %\n",
       "2       Know      Alom   72         72 %          56 %\n",
       "3       Sara     Ormon   73         26 %         234 %\n",
       "4        Cat    Koozer   24         26 %         254 %"
      ]
     },
     "execution_count": 53,
     "metadata": {},
     "output_type": "execute_result"
    }
   ],
   "source": [
    "raw_data_2 = {'first_name': ['Sarah', 'Gueniva', 'Know', 'Sara', 'Cat'], \n",
    "        'last_name': ['Mornig', 'Jaker', 'Alom', 'Ormon', 'Koozer'], \n",
    "        'age': [53, 26, 72, 73, 24], \n",
    "        'preTestScore': ['13 %', '52 %', '72 %', '26 %', '26 %'],\n",
    "        'postTestScore': ['82 %', '52 %', '56 %', '234 %', '254 %']}\n",
    "df_2 = pd.DataFrame(raw_data_2, columns = ['first_name', 'last_name', 'age', 'preTestScore', 'postTestScore'])\n",
    "df_2"
   ]
  },
  {
   "cell_type": "code",
   "execution_count": 63,
   "metadata": {},
   "outputs": [
    {
     "data": {
      "text/html": [
       "<div>\n",
       "<style scoped>\n",
       "    .dataframe tbody tr th:only-of-type {\n",
       "        vertical-align: middle;\n",
       "    }\n",
       "\n",
       "    .dataframe tbody tr th {\n",
       "        vertical-align: top;\n",
       "    }\n",
       "\n",
       "    .dataframe thead th {\n",
       "        text-align: right;\n",
       "    }\n",
       "</style>\n",
       "<table border=\"1\" class=\"dataframe\">\n",
       "  <thead>\n",
       "    <tr style=\"text-align: right;\">\n",
       "      <th></th>\n",
       "      <th>first_name</th>\n",
       "      <th>last_name</th>\n",
       "      <th>age</th>\n",
       "      <th>preTestScore</th>\n",
       "      <th>postTestScore</th>\n",
       "    </tr>\n",
       "  </thead>\n",
       "  <tbody>\n",
       "    <tr>\n",
       "      <th>0</th>\n",
       "      <td>Sarah</td>\n",
       "      <td>Mornig</td>\n",
       "      <td>53</td>\n",
       "      <td>0.13</td>\n",
       "      <td>0.82</td>\n",
       "    </tr>\n",
       "    <tr>\n",
       "      <th>1</th>\n",
       "      <td>Gueniva</td>\n",
       "      <td>Jaker</td>\n",
       "      <td>26</td>\n",
       "      <td>0.52</td>\n",
       "      <td>0.52</td>\n",
       "    </tr>\n",
       "    <tr>\n",
       "      <th>2</th>\n",
       "      <td>Know</td>\n",
       "      <td>Alom</td>\n",
       "      <td>72</td>\n",
       "      <td>0.72</td>\n",
       "      <td>0.56</td>\n",
       "    </tr>\n",
       "    <tr>\n",
       "      <th>3</th>\n",
       "      <td>Sara</td>\n",
       "      <td>Ormon</td>\n",
       "      <td>73</td>\n",
       "      <td>0.26</td>\n",
       "      <td>2.34</td>\n",
       "    </tr>\n",
       "    <tr>\n",
       "      <th>4</th>\n",
       "      <td>Cat</td>\n",
       "      <td>Koozer</td>\n",
       "      <td>24</td>\n",
       "      <td>0.26</td>\n",
       "      <td>2.54</td>\n",
       "    </tr>\n",
       "  </tbody>\n",
       "</table>\n",
       "</div>"
      ],
      "text/plain": [
       "  first_name last_name  age  preTestScore  postTestScore\n",
       "0      Sarah    Mornig   53          0.13           0.82\n",
       "1    Gueniva     Jaker   26          0.52           0.52\n",
       "2       Know      Alom   72          0.72           0.56\n",
       "3       Sara     Ormon   73          0.26           2.34\n",
       "4        Cat    Koozer   24          0.26           2.54"
      ]
     },
     "execution_count": 63,
     "metadata": {},
     "output_type": "execute_result"
    }
   ],
   "source": [
    "def convert_percantage_string(x):\n",
    "    return float(x.replace('%',''))/100\n",
    "\n",
    "def clean_dataset_percentage_string(dataframe, columns):\n",
    "    for col in columns:\n",
    "         dataframe[col]=dataframe[col].apply(convert_percantage_string)\n",
    "clean_dataset_percentage_string(df_2, ['preTestScore','postTestScore'])\n",
    "df_2\n",
    "    "
   ]
  },
  {
   "cell_type": "code",
   "execution_count": null,
   "metadata": {},
   "outputs": [],
   "source": []
  }
 ],
 "metadata": {
  "kernelspec": {
   "display_name": "Python 3",
   "language": "python",
   "name": "python3"
  },
  "language_info": {
   "codemirror_mode": {
    "name": "ipython",
    "version": 3
   },
   "file_extension": ".py",
   "mimetype": "text/x-python",
   "name": "python",
   "nbconvert_exporter": "python",
   "pygments_lexer": "ipython3",
   "version": "3.7.3"
  }
 },
 "nbformat": 4,
 "nbformat_minor": 2
}
